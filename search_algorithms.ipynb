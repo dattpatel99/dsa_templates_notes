{
 "cells": [
  {
   "cell_type": "markdown",
   "metadata": {},
   "source": [
    "## Binary Search"
   ]
  },
  {
   "cell_type": "code",
   "execution_count": null,
   "metadata": {},
   "outputs": [],
   "source": [
    "# binary search\n",
    "def binSearch(arr, target):\n",
    "    left = 0\n",
    "    right = len(arr) - 1\n",
    "    while left <= right:\n",
    "        mid = (left + right) // 2\n",
    "        if arr[mid] == target:\n",
    "            # do something\n",
    "            return\n",
    "        if arr[mid] > target:\n",
    "            right = mid - 1\n",
    "        else:\n",
    "            left = mid + 1\n",
    "    \n",
    "    # left is the insertion point\n",
    "    return left"
   ]
  },
  {
   "cell_type": "markdown",
   "metadata": {},
   "source": [
    "### Left/Right most insertion point for duplicate elements in Array "
   ]
  },
  {
   "cell_type": "code",
   "execution_count": null,
   "metadata": {},
   "outputs": [],
   "source": [
    "# binary search duplicate elements, left-most insertion point\n",
    "def binSearch(arr, target):\n",
    "    left = 0\n",
    "    right = len(arr)\n",
    "    while left < right:\n",
    "        mid = (left + right) // 2\n",
    "        if arr[mid] >= target:\n",
    "            right = mid\n",
    "        else:\n",
    "            left = mid + 1\n",
    "\n",
    "    return left"
   ]
  },
  {
   "cell_type": "code",
   "execution_count": null,
   "metadata": {},
   "outputs": [],
   "source": [
    "# binary search: duplicate elements, right-most insertion point\n",
    "def binSearch(arr, target):\n",
    "    left = 0\n",
    "    right = len(arr)\n",
    "    while left < right:\n",
    "        mid = (left + right) // 2\n",
    "        if arr[mid] > target:\n",
    "            right = mid\n",
    "        else:\n",
    "            left = mid + 1\n",
    "\n",
    "    return left"
   ]
  },
  {
   "cell_type": "markdown",
   "metadata": {},
   "source": [
    "### Find Min/Max element in binary search"
   ]
  },
  {
   "cell_type": "code",
   "execution_count": null,
   "metadata": {},
   "outputs": [],
   "source": [
    "# binary search for finding min element (greedy)\n",
    "def check(x):\n",
    "    # this function is implemented depending on the problem\n",
    "    return \"BOOLEAN\"\n",
    "def binSearchMin(arr):\n",
    "\n",
    "    left = \"MINIMUM_POSSIBLE_ANSWER\"\n",
    "    right = \"MAXIMUM_POSSIBLE_ANSWER\"\n",
    "    while left <= right:\n",
    "        mid = (left + right) // 2\n",
    "        if check(mid):\n",
    "            right = mid - 1\n",
    "        else:\n",
    "            left = mid + 1\n",
    "    \n",
    "    return left"
   ]
  },
  {
   "cell_type": "code",
   "execution_count": null,
   "metadata": {},
   "outputs": [],
   "source": [
    "# binary search for finding max element (greedy)\n",
    "def check(x):\n",
    "    # this function is implemented depending on the problem\n",
    "    return \"BOOLEAN\"\n",
    "def binSearchMax(arr):\n",
    "    left = \"MINIMUM_POSSIBLE_ANSWER\"\n",
    "    right = \"MAXIMUM_POSSIBLE_ANSWER\"\n",
    "    while left <= right:\n",
    "        mid = (left + right) // 2\n",
    "        if check(mid):\n",
    "            left = mid + 1\n",
    "        else:\n",
    "            right = mid - 1\n",
    "    \n",
    "    return right"
   ]
  },
  {
   "cell_type": "markdown",
   "metadata": {},
   "source": [
    "## DFS (Depth First Search)"
   ]
  },
  {
   "cell_type": "markdown",
   "metadata": {},
   "source": [
    "#### Graph"
   ]
  },
  {
   "cell_type": "code",
   "execution_count": null,
   "metadata": {},
   "outputs": [],
   "source": [
    "# dfs iterative (graph)\n",
    "def dfs(graph, START_NODE):\n",
    "    stack = [START_NODE]\n",
    "    seen = {START_NODE}\n",
    "    ans = 0\n",
    "\n",
    "    while stack:\n",
    "        node = stack.pop()\n",
    "        # do some logic\n",
    "        for neighbor in graph[node]:\n",
    "            if neighbor not in seen:\n",
    "                seen.add(neighbor)\n",
    "                stack.append(neighbor)\n",
    "    \n",
    "    return ans"
   ]
  },
  {
   "cell_type": "code",
   "execution_count": null,
   "metadata": {},
   "outputs": [],
   "source": [
    "# dfs recursive (graph)\n",
    "'''\n",
    "For the graph templates, assume the nodes are numbered from 0 to n - 1 and the graph is given as an adjacency list.\n",
    "Depending on the problem, you may need to convert the input into an equivalent adjacency list before using the templates.\n",
    "'''\n",
    "seen  = {}\n",
    "def dfsDriver(graph, START_NODE):\n",
    "    seen = {START_NODE}\n",
    "    return dfs(graph, START_NODE)\n",
    "def dfs(graph, node):\n",
    "    ans = 0\n",
    "    # do some logic\n",
    "    for neighbor in graph[node]:\n",
    "        if neighbor not in seen:\n",
    "            seen.add(neighbor)\n",
    "            ans += dfs(neighbor)\n",
    "    \n",
    "    return ans"
   ]
  },
  {
   "cell_type": "markdown",
   "metadata": {},
   "source": [
    "### Binary Tree"
   ]
  },
  {
   "cell_type": "code",
   "execution_count": null,
   "metadata": {},
   "outputs": [],
   "source": [
    "\n",
    "# dfs iterative (binary tree)\n",
    "def dfs(root):\n",
    "    stack = [root]\n",
    "    ans = 0\n",
    "\n",
    "    while stack:\n",
    "        node = stack.pop()\n",
    "        # do logic\n",
    "        if node.left:\n",
    "            stack.append(node.left)\n",
    "        if node.right:\n",
    "            stack.append(node.right)\n",
    "\n",
    "    return ans"
   ]
  },
  {
   "cell_type": "code",
   "execution_count": null,
   "metadata": {},
   "outputs": [],
   "source": [
    "# dfs recursive (binary tree)\n",
    "def dfs(root):\n",
    "    if not root:\n",
    "        return\n",
    "    \n",
    "    ans = 0\n",
    "\n",
    "    # do logic\n",
    "    dfs(root.left)\n",
    "    dfs(root.right)\n",
    "    return ans"
   ]
  },
  {
   "cell_type": "markdown",
   "metadata": {},
   "source": [
    "## BFS (Breadth First Search)"
   ]
  },
  {
   "cell_type": "markdown",
   "metadata": {},
   "source": [
    "### Graph"
   ]
  },
  {
   "cell_type": "code",
   "execution_count": null,
   "metadata": {},
   "outputs": [],
   "source": [
    "# bfs graph\n",
    "from collections import deque\n",
    "def bfs(graph, START_NODE):\n",
    "    queue = deque([START_NODE])\n",
    "    seen = {START_NODE}\n",
    "    ans = 0\n",
    "\n",
    "    while queue:\n",
    "        node = queue.popleft()\n",
    "        # do some logic\n",
    "        for neighbor in graph[node]:\n",
    "            if neighbor not in seen:\n",
    "                seen.add(neighbor)\n",
    "                queue.append(neighbor)\n",
    "    \n",
    "    return ans"
   ]
  },
  {
   "cell_type": "markdown",
   "metadata": {},
   "source": [
    "### Binary Tree"
   ]
  },
  {
   "cell_type": "code",
   "execution_count": null,
   "metadata": {},
   "outputs": [],
   "source": [
    "# bfs (binary tree)\n",
    "from collections import deque\n",
    "def bfs(root):\n",
    "    queue = deque([root])\n",
    "    ans = 0\n",
    "\n",
    "    while queue:\n",
    "        current_length = len(queue)\n",
    "        # do logic for current level\n",
    "\n",
    "        for _ in range(current_length):\n",
    "            node = queue.popleft()\n",
    "            # do logic\n",
    "            if node.left:\n",
    "                queue.append(node.left)\n",
    "            if node.right:\n",
    "                queue.append(node.right)\n",
    "\n",
    "    return ans"
   ]
  },
  {
   "cell_type": "markdown",
   "metadata": {},
   "source": [
    "## Dijkstra"
   ]
  },
  {
   "cell_type": "code",
   "execution_count": null,
   "metadata": {},
   "outputs": [],
   "source": [
    "# dijkstra\n",
    "from math import inf\n",
    "from heapq import *\n",
    "\n",
    "def dijkstra(n, source, graph):\n",
    "    distances = [inf] * n\n",
    "    distances[source] = 0\n",
    "    heap = [(0, source)]\n",
    "    while heap:\n",
    "        curr_dist, node = heappop(heap)\n",
    "        if curr_dist > distances[node]:\n",
    "            continue\n",
    "        \n",
    "        for nei, weight in graph[node]:\n",
    "            dist = curr_dist + weight\n",
    "            if dist < distances[nei]:\n",
    "                distances[nei] = dist\n",
    "                heappush(heap, (dist, nei))"
   ]
  }
 ],
 "metadata": {
  "language_info": {
   "name": "python"
  }
 },
 "nbformat": 4,
 "nbformat_minor": 2
}
