{
 "cells": [
  {
   "cell_type": "markdown",
   "metadata": {},
   "source": [
    "## Top Down Memoization"
   ]
  },
  {
   "cell_type": "markdown",
   "metadata": {},
   "source": [
    "Goal: build table from 'n' to '0' by using the values of i+1 while you are trying to find 'i'."
   ]
  },
  {
   "cell_type": "code",
   "execution_count": null,
   "metadata": {},
   "outputs": [],
   "source": [
    "\"\"\"\n",
    "A top-down approach to dynamic programming using memoization.\n",
    "Args:\n",
    "n (int): The primary input parameter to define the size or value of the problem.\n",
    "memo (dict): A dictionary to store the results of subproblems to avoid recomputation.\n",
    "Returns:\n",
    "int: The result of the dynamic programming problem for input n.\n",
    "\"\"\"\n",
    "def top_down_memoization(n, memo):\n",
    "    # Base case: If the problem is already solved, return the solution.\n",
    "    if n in memo:\n",
    "        return memo[n]\n",
    "\n",
    "    # Base case: Smallest subproblem (could vary based on the problem)\n",
    "    if n <= some_base_condition:\n",
    "        return base_solution\n",
    "\n",
    "    # Recursive case: Break the problem into smaller subproblems.\n",
    "    # (This part varies greatly depending on the problem)\n",
    "    result = some_recursive_function(n)\n",
    "\n",
    "    # Store the result in the memo before returning.\n",
    "    memo[n] = result\n",
    "    return result"
   ]
  },
  {
   "cell_type": "markdown",
   "metadata": {},
   "source": [
    "## Bottom Up Memoization"
   ]
  },
  {
   "cell_type": "markdown",
   "metadata": {},
   "source": [
    "Goal: build table from '0' to 'n' using the value of i-j when finding 'i', where j varies from problem to problem."
   ]
  },
  {
   "cell_type": "code",
   "execution_count": null,
   "metadata": {},
   "outputs": [],
   "source": [
    "\"\"\"\n",
    "A bottom-up approach to dynamic programming using tabulation.\n",
    "Args:\n",
    "n (int): The primary input parameter to define the size or value of the problem.\n",
    "Returns:\n",
    "int: The result of the dynamic programming problem for input n.\n",
    "\"\"\"\n",
    "def bottom_up_tabulation(n):\n",
    "    # Initialize a table (list or array) to store the results of subproblems.\n",
    "    table = [0] * (n + 1)\n",
    "\n",
    "    # Set up base cases in the table (specific to the problem).\n",
    "    table[0] = base_value1\n",
    "    table[1] = base_value2\n",
    "\n",
    "    # Iterate over the table and fill it by solving subproblems.\n",
    "    for i in range(2, n + 1):\n",
    "        table[i] = some_combination_of_previous_values(table, i)\n",
    "\n",
    "    # The final answer is usually the last entry in the table.\n",
    "    return table[n]"
   ]
  },
  {
   "cell_type": "markdown",
   "metadata": {},
   "source": [
    "## 0-1 Knapsack"
   ]
  },
  {
   "cell_type": "markdown",
   "metadata": {},
   "source": [
    "### Non-memoization"
   ]
  },
  {
   "cell_type": "code",
   "execution_count": null,
   "metadata": {},
   "outputs": [],
   "source": [
    "\"\"\"\n",
    "A dynamic programming solution for the 0-1 Knapsack problem.\n",
    "Args:\n",
    "W (int): Total weight of the knapsack.\n",
    "wt (list): List of weights of items.\n",
    "val (list): List of values of items.\n",
    "n (int): Number of items.\n",
    "Returns:\n",
    "int: The maximum value that can be put in a knapsack of capacity W.\n",
    "\"\"\"\n",
    "def knapsack(W, wt, val, n):\n",
    "    # FIXME: Based on requirements change the value '0' to something else\n",
    "    K = [[0 for x in range(W + 1)] for x in range(n + 1)]\n",
    "\n",
    "    for i in range(n + 1):\n",
    "        for w in range(W + 1):\n",
    "            if i == 0 or w == 0:\n",
    "                K[i][w] = 0\n",
    "            elif wt[i-1] <= w:\n",
    "                K[i][w] = max(val[i-1] + K[i-1][w-wt[i-1]], K[i-1][w])\n",
    "            else:\n",
    "                K[i][w] = K[i-1][w]\n",
    "\n",
    "    return K[n][W]"
   ]
  },
  {
   "cell_type": "markdown",
   "metadata": {},
   "source": [
    "### Memoization"
   ]
  },
  {
   "cell_type": "code",
   "execution_count": null,
   "metadata": {},
   "outputs": [],
   "source": [
    "\"\"\"\n",
    "A memoized solution for the 0-1 Knapsack problem.\n",
    "Args:\n",
    "wt (list): List of weights.\n",
    "val (list): List of values corresponding to weights.\n",
    "W (int): Maximum weight capacity of the knapsack.\n",
    "n (int): Number of items.\n",
    "memo (dict): Memoization table.\n",
    "Returns:\n",
    "int: Maximum value that can be put in a knapsack of capacity W.\n",
    "\"\"\"\n",
    "def knapsack(wt, val, W, n, memo):\n",
    "    if n == 0 or W == 0:\n",
    "        return 0\n",
    "\n",
    "    if (n, W) in memo:\n",
    "        return memo[(n, W)]\n",
    "\n",
    "    # Compare and keep\n",
    "    if wt[n-1] <= W:\n",
    "        memo[(n, W)] = max(val[n-1] + knapsack(wt, val, W-wt[n-1], n-1, memo), \n",
    "                           knapsack(wt, val, W, n-1, memo))\n",
    "        return memo[(n, W)]\n",
    "    # If current weight > total Weight possible just skip\n",
    "    else:\n",
    "        memo[(n, W)] = knapsack(wt, val, W, n-1, memo)\n",
    "        return memo[(n, W)]\n",
    "\n",
    "# Example usage\n",
    "weights = [10, 20, 30]\n",
    "values = [60, 100, 120]\n",
    "W = 50\n",
    "n = len(values)\n",
    "memo = {}\n",
    "print(knapsack(weights, values, W, n, memo))\n"
   ]
  },
  {
   "cell_type": "markdown",
   "metadata": {},
   "source": [
    "## Coin Change"
   ]
  },
  {
   "cell_type": "code",
   "execution_count": null,
   "metadata": {},
   "outputs": [],
   "source": [
    "\n",
    "\"\"\"\n",
    "A dynamic programming solution for the Coin Change problem.\n",
    "Args:\n",
    "coins (list): List of different denominations of coins.\n",
    "amount (int): The total amount for which change is to be made.\n",
    "Returns:\n",
    "int: The fewest number of coins that make up that amount, or -1 if it's not possible.\n",
    "\"\"\"\n",
    "def coinChange(coins, amount):\n",
    "    dp = [float('inf')] * (amount + 1)\n",
    "    dp[0] = 0\n",
    "\n",
    "    for coin in coins:\n",
    "        for x in range(coin, amount + 1):\n",
    "            dp[x] = min(dp[x], dp[x - coin] + 1)\n",
    "\n",
    "    return dp[amount] if dp[amount] != float('inf') else -1"
   ]
  },
  {
   "cell_type": "markdown",
   "metadata": {},
   "source": [
    "### Memoization"
   ]
  },
  {
   "cell_type": "code",
   "execution_count": null,
   "metadata": {},
   "outputs": [],
   "source": [
    "\"\"\"\n",
    "A memoized solution for the Coin Change problem.\n",
    "Args:\n",
    "coins (list): The different denominations of coins.\n",
    "amount (int): The total amount to make change for.\n",
    "memo (dict): Memoization table.\n",
    "Returns:\n",
    "int: The fewest number of coins that you need to make up that amount.\n",
    "\"\"\"\n",
    "def coin_change(coins, amount, memo):\n",
    "    if amount < 0:\n",
    "        return float('inf')\n",
    "    if amount == 0:\n",
    "        return 0\n",
    "\n",
    "    if amount in memo:\n",
    "        return memo[amount]\n",
    "\n",
    "    min_coins = float('inf')\n",
    "    for coin in coins:\n",
    "        res = coin_change(coins, amount - coin, memo)\n",
    "        if res != float('inf'):\n",
    "            min_coins = min(min_coins, res + 1)\n",
    "\n",
    "    memo[amount] = min_coins\n",
    "    return memo[amount]\n",
    "\n",
    "# Example usage\n",
    "coins = [1, 2, 5]\n",
    "amount = 11\n",
    "memo = {}\n",
    "print(coin_change(coins, amount, memo))"
   ]
  },
  {
   "cell_type": "markdown",
   "metadata": {},
   "source": [
    "## Shortest Common Super Sequence"
   ]
  },
  {
   "cell_type": "code",
   "execution_count": null,
   "metadata": {},
   "outputs": [],
   "source": [
    "\"\"\"\n",
    "A dynamic programming solution for the Shortest Common Supersequence problem.\n",
    "Args:\n",
    "str1 (str): First string.\n",
    "str2 (str): Second string.\n",
    "Returns:\n",
    "int: Length of the shortest supersequence of str1 and str2.\n",
    "\"\"\"\n",
    "def shortestCommonSupersequence(str1, str2):\n",
    "    \n",
    "    m, n = len(str1), len(str2)\n",
    "    dp = [[\"\" for _ in range(n + 1)] for _ in range(m + 1)]\n",
    "\n",
    "    for i in range(m + 1):\n",
    "        for j in range(n + 1):\n",
    "            if i == 0 or j == 0:\n",
    "                dp[i][j] = str1[:i] + str2[:j]\n",
    "            elif str1[i - 1] == str2[j - 1]:\n",
    "                dp[i][j] = dp[i - 1][j - 1] + str1[i - 1]\n",
    "            else:\n",
    "                dp[i][j] = min(dp[i - 1][j] + str1[i - 1], dp[i][j - 1] + str2[j - 1], key=len)\n",
    "\n",
    "    return dp[m][n]"
   ]
  },
  {
   "cell_type": "markdown",
   "metadata": {},
   "source": [
    "### Memoization"
   ]
  },
  {
   "cell_type": "code",
   "execution_count": null,
   "metadata": {},
   "outputs": [],
   "source": [
    "\"\"\"\n",
    "A memoized solution for the Shortest Common Supersequence problem.\n",
    "Args:\n",
    "X, Y (str): Two strings.\n",
    "memo (dict): Memoization table.\n",
    "Returns:\n",
    "str: The shortest common supersequence of X and Y.\n",
    "\"\"\"\n",
    "def shortest_common_supersequence(X, Y, memo):\n",
    "    def scs(i, j):\n",
    "        if i == len(X) or j == len(Y):\n",
    "            return X[i:] or Y[j:]\n",
    "        if (i, j) in memo:\n",
    "            return memo[(i, j)]\n",
    "\n",
    "        if X[i] == Y[j]:\n",
    "            memo[(i, j)] = X[i] + scs(i + 1, j + 1)\n",
    "        else:\n",
    "            scs1 = X[i] + scs(i + 1, j)\n",
    "            scs2 = Y[j] + scs(i, j + 1)\n",
    "            memo[(i, j)] = min(scs1, scs2, key=len)\n",
    "\n",
    "        return memo[(i, j)]\n",
    "\n",
    "    return scs(0, 0)\n",
    "\n",
    "# Example usage\n",
    "X = \"AGGTAB\"\n",
    "Y = \"GXTXAYB\"\n",
    "memo = {}\n",
    "print(shortest_common_supersequence(X, Y, memo))\n"
   ]
  },
  {
   "cell_type": "markdown",
   "metadata": {},
   "source": [
    "## Longest Common Subsequence"
   ]
  },
  {
   "cell_type": "code",
   "execution_count": null,
   "metadata": {},
   "outputs": [],
   "source": [
    "\"\"\"\n",
    "Computes the length of the longest common subsequence of two sequences.\n",
    "Args:\n",
    "X (str or list): The first sequence.\n",
    "Y (str or list): The second sequence.\n",
    "Returns:\n",
    "int: The length of the longest common subsequence.\n",
    "\"\"\"\n",
    "def longest_common_subsequence(X, Y):\n",
    "    # Lengths of the input sequences\n",
    "    m = len(X)\n",
    "    n = len(Y)\n",
    "\n",
    "    # Declaring the array for storing the dp values\n",
    "    L = [[None]*(n+1) for i in range(m+1)]\n",
    "\n",
    "    # Building the matrix in bottom-up way\n",
    "    for i in range(m+1):\n",
    "        for j in range(n+1):\n",
    "            if i == 0 or j == 0:\n",
    "                L[i][j] = 0\n",
    "            elif X[i-1] == Y[j-1]:\n",
    "                L[i][j] = L[i-1][j-1]+1\n",
    "            else:\n",
    "                L[i][j] = max(L[i-1][j], L[i][j-1])\n",
    "\n",
    "    # L[m][n] contains the length of LCS of X[0..n-1] & Y[0..m-1]\n",
    "    return L[m][n]\n",
    "\n",
    "# Example usage\n",
    "X = \"AGGTAB\"\n",
    "Y = \"GXTXAYB\"\n",
    "print(\"Length of LCS is\", longest_common_subsequence(X, Y))\n"
   ]
  },
  {
   "cell_type": "markdown",
   "metadata": {},
   "source": [
    "### Memoization"
   ]
  },
  {
   "cell_type": "code",
   "execution_count": null,
   "metadata": {},
   "outputs": [],
   "source": [
    "\"\"\"\n",
    "Finds the length of the longest common subsequence in two strings.\n",
    "Args:\n",
    "X, Y (str): The input strings.\n",
    "Returns:\n",
    "int: The length of the longest common subsequence.\n",
    "\"\"\"\n",
    "def longest_common_subsequence(X, Y):\n",
    "    memo = {}\n",
    "\n",
    "    def lcs_recursive(i, j):\n",
    "        if i == len(X) or j == len(Y):\n",
    "            return 0\n",
    "\n",
    "        if (i, j) in memo:\n",
    "            return memo[(i, j)]\n",
    "\n",
    "        if X[i] == Y[j]:\n",
    "            memo[(i, j)] = 1 + lcs_recursive(i + 1, j + 1)\n",
    "        else:\n",
    "            memo[(i, j)] = max(lcs_recursive(i + 1, j), lcs_recursive(i, j + 1))\n",
    "\n",
    "        return memo[(i, j)]\n",
    "\n",
    "    return lcs_recursive(0, 0)\n",
    "\n",
    "# Example usage\n",
    "X = \"AGGTAB\"\n",
    "Y = \"GXTXAYB\"\n",
    "print(longest_common_subsequence(X, Y))\n"
   ]
  },
  {
   "cell_type": "markdown",
   "metadata": {},
   "source": [
    "## Longest Increasing Subsequence"
   ]
  },
  {
   "cell_type": "code",
   "execution_count": null,
   "metadata": {},
   "outputs": [],
   "source": [
    "\"\"\"\n",
    "Finds the length of the longest increasing subsequence in an array.\n",
    "Args:\n",
    "arr (list): The input array.\n",
    "Returns:\n",
    "int: The length of the longest increasing subsequence.\n",
    "\"\"\"\n",
    "def longest_increasing_subsequence(arr):\n",
    "    n = len(arr)\n",
    "    lis = [1] * n\n",
    "\n",
    "    for i in range(1, n):\n",
    "        for j in range(0, i):\n",
    "            if arr[i] > arr[j] and lis[i] < lis[j] + 1:\n",
    "                lis[i] = lis[j] + 1\n",
    "\n",
    "    return max(lis)"
   ]
  },
  {
   "cell_type": "markdown",
   "metadata": {},
   "source": [
    "### Memoization"
   ]
  },
  {
   "cell_type": "code",
   "execution_count": null,
   "metadata": {},
   "outputs": [],
   "source": [
    "\"\"\"\n",
    "Finds the length of the longest increasing subsequence in an array.\n",
    "Args:\n",
    "arr (list): The input array.\n",
    "Returns:\n",
    "int: The length of the longest increasing subsequence.\n",
    "\"\"\"\n",
    "def longest_increasing_subsequence(arr):\n",
    "    memo = {}\n",
    "\n",
    "    def lis_recursive(n):\n",
    "        if n in memo:\n",
    "            return memo[n]\n",
    "\n",
    "        max_len = 1\n",
    "        for i in range(n):\n",
    "            if arr[i] < arr[n]:\n",
    "                max_len = max(max_len, 1 + lis_recursive(i))\n",
    "\n",
    "        memo[n] = max_len\n",
    "        return max_len\n",
    "\n",
    "    max_length = 0\n",
    "    for i in range(len(arr)):\n",
    "        max_length = max(max_length, lis_recursive(i))\n",
    "\n",
    "    return max_length\n",
    "\n",
    "# Example usage\n",
    "arr = [10, 22, 9, 33, 21, 50, 41, 60]\n",
    "print(longest_increasing_subsequence(arr))\n"
   ]
  },
  {
   "cell_type": "markdown",
   "metadata": {},
   "source": [
    "## Matrix Chain Order"
   ]
  },
  {
   "cell_type": "code",
   "execution_count": null,
   "metadata": {},
   "outputs": [],
   "source": [
    "\"\"\"\n",
    "Determines the most efficient way to multiply a chain of matrices.\n",
    "Args:\n",
    "p (list): The dimensions of matrices as an array. \n",
    "Returns:\n",
    "int: The minimum number of multiplications needed.\n",
    "\"\"\"\n",
    "def matrix_chain_order(p):\n",
    "    n = len(p) - 1\n",
    "    m = [[0 for x in range(n)] for x in range(n)]\n",
    "\n",
    "    for chain_length in range(2, n+1):\n",
    "        for i in range(1, n-chain_length+2):\n",
    "            j = i+chain_length-1\n",
    "            m[i-1][j-1] = float('inf')\n",
    "            for k in range(i, j):\n",
    "                q = m[i-1][k-1] + m[k][j-1] + p[i-1]*p[k]*p[j]\n",
    "                if q < m[i-1][j-1]:\n",
    "                    m[i-1][j-1] = q\n",
    "\n",
    "    return m[0][n-1]"
   ]
  },
  {
   "cell_type": "markdown",
   "metadata": {},
   "source": [
    "### Memoization"
   ]
  },
  {
   "cell_type": "code",
   "execution_count": null,
   "metadata": {},
   "outputs": [],
   "source": [
    "\"\"\"\n",
    "Determines the most efficient way to multiply a chain of matrices.\n",
    "Args:\n",
    "p (list): The dimensions of matrices as an array.\n",
    "Returns:\n",
    "int: The minimum number of multiplications needed.\n",
    "\"\"\"\n",
    "def matrix_chain_order(p):\n",
    "    memo = {}\n",
    "\n",
    "    def matrix_chain_recursive(i, j):\n",
    "        if i == j:\n",
    "            return 0\n",
    "\n",
    "        if (i, j) in memo:\n",
    "            return memo[(i, j)]\n",
    "\n",
    "        memo[(i, j)] = float('inf')\n",
    "        for k in range(i, j):\n",
    "            count = (matrix_chain_recursive(i, k) + matrix_chain_recursive(k + 1, j) +\n",
    "                     p[i - 1] * p[k] * p[j])\n",
    "            if count < memo[(i, j)]:\n",
    "                memo[(i, j)] = count\n",
    "\n",
    "        return memo[(i, j)]\n",
    "\n",
    "    return matrix_chain_recursive(1, len(p) - 1)\n",
    "\n",
    "# Example usage\n",
    "p = [30, 35, 15, 5, 10, 20, 25]\n",
    "print(matrix_chain_order(p))\n"
   ]
  },
  {
   "cell_type": "markdown",
   "metadata": {},
   "source": [
    "## Is Partition Possible"
   ]
  },
  {
   "cell_type": "code",
   "execution_count": null,
   "metadata": {},
   "outputs": [],
   "source": [
    "\"\"\"\n",
    "Determines if a given array can be partitioned into two subsets with equal sum.\n",
    "Args:\n",
    "arr (list): The input array.\n",
    "Returns:\n",
    "bool: True if the array can be partitioned into two subsets with equal sum, False otherwise.\n",
    "\"\"\"\n",
    "def is_partition_possible(arr):\n",
    "    total_sum = sum(arr)\n",
    "    n = len(arr)\n",
    "\n",
    "    if total_sum % 2 != 0:\n",
    "        return False\n",
    "\n",
    "    part = [[False for i in range(total_sum // 2 + 1)] for j in range(n + 1)]\n",
    "\n",
    "    for i in range(n + 1):\n",
    "        part[i][0] = True\n",
    "\n",
    "    for i in range(1, n + 1):\n",
    "        for j in range(1, total_sum // 2 + 1):\n",
    "            if j < arr[i-1]:\n",
    "                part[i][j] = part[i-1][j]\n",
    "            else:\n",
    "                part[i][j] = part[i-1][j] or part[i-1][j-arr[i-1]]\n",
    "\n",
    "    return part[n][total_sum // 2]"
   ]
  },
  {
   "cell_type": "markdown",
   "metadata": {},
   "source": [
    "## Rod Cutting"
   ]
  },
  {
   "cell_type": "markdown",
   "metadata": {},
   "source": [
    "### Non-Memoization"
   ]
  },
  {
   "cell_type": "code",
   "execution_count": null,
   "metadata": {},
   "outputs": [],
   "source": [
    "\"\"\"\n",
    "Computes the maximum value obtainable by cutting up the rod and selling the pieces.\n",
    "Args:\n",
    "prices (list): Prices of different lengths of rod.\n",
    "n (int): The length of the rod.\n",
    "Returns:\n",
    "int: The maximum value obtainable.\n",
    "\"\"\"\n",
    "def rod_cutting(prices, n):\n",
    "    value = [0 for x in range(n+1)]\n",
    "    for i in range(1, n+1):\n",
    "        max_val = float('-inf')\n",
    "        for j in range(i):\n",
    "             max_val = max(max_val, prices[j] + value[i-j-1])\n",
    "        value[i] = max_val\n",
    "\n",
    "    return value[n]"
   ]
  },
  {
   "cell_type": "markdown",
   "metadata": {},
   "source": [
    "### Memoization"
   ]
  },
  {
   "cell_type": "code",
   "execution_count": null,
   "metadata": {},
   "outputs": [],
   "source": [
    "\"\"\"\n",
    "Computes the maximum value obtainable by cutting up the rod and selling the pieces.\n",
    "Args:\n",
    "prices (list): Prices of different lengths of rod.\n",
    "n (int): The length of the rod.\n",
    "Returns:\n",
    "int: The maximum value obtainable.\n",
    "\"\"\"\n",
    "def rod_cutting(prices, n):\n",
    "    memo = {}\n",
    "\n",
    "    def cut_rod_recursive(length):\n",
    "        if length == 0:\n",
    "            return 0\n",
    "\n",
    "        if length in memo:\n",
    "            return memo[length]\n",
    "\n",
    "        max_val = float('-inf')\n",
    "        for i in range(1, length + 1):\n",
    "            max_val = max(max_val, prices[i - 1] + cut_rod_recursive(length - i))\n",
    "\n",
    "        memo[length] = max_val\n",
    "        return max_val\n",
    "\n",
    "    return cut_rod_recursive(n)\n",
    "\n",
    "# Example usage\n",
    "prices = [1, 5, 8, 9, 10, 17, 17, 20]\n",
    "length_of_rod = 8\n",
    "print(rod_cutting(prices, length_of_rod))"
   ]
  },
  {
   "cell_type": "markdown",
   "metadata": {},
   "source": [
    "## Edit Distance (Levenshtein)"
   ]
  },
  {
   "cell_type": "code",
   "execution_count": null,
   "metadata": {},
   "outputs": [],
   "source": [
    "\"\"\"\n",
    "Calculates the minimum number of operations (insertions, deletions, substitutions) \n",
    "required to change str1 into str2.\n",
    "Args:\n",
    "str1, str2 (str): The two strings to be compared.\n",
    "Returns:\n",
    "int: The edit distance between the two strings.\n",
    "\"\"\"\n",
    "def edit_distance(str1, str2):\n",
    "    m = len(str1)\n",
    "    n = len(str2)\n",
    "    dp = [[0 for x in range(n+1)] for x in range(m+1)]\n",
    "\n",
    "    for i in range(m+1):\n",
    "        for j in range(n+1):\n",
    "            if i == 0:\n",
    "                dp[i][j] = j\n",
    "            elif j == 0:\n",
    "                dp[i][j] = i\n",
    "            elif str1[i-1] == str2[j-1]:\n",
    "                dp[i][j] = dp[i-1][j-1]\n",
    "            else:\n",
    "                dp[i][j] = 1 + min(dp[i-1][j], dp[i][j-1], dp[i-1][j-1])\n",
    "\n",
    "    return dp[m][n]"
   ]
  },
  {
   "cell_type": "markdown",
   "metadata": {},
   "source": [
    "### Memoization"
   ]
  },
  {
   "cell_type": "code",
   "execution_count": null,
   "metadata": {},
   "outputs": [],
   "source": [
    "\"\"\"\n",
    "Calculates the minimum number of operations (insertions, deletions, substitutions) \n",
    "required to change str1 into str2.\n",
    "Args:\n",
    "str1, str2 (str): The two strings to be compared.\n",
    "Returns:\n",
    "int: The edit distance between the two strings.\n",
    "\"\"\"\n",
    "def edit_distance(str1, str2):\n",
    "    memo = {}\n",
    "\n",
    "    def levenshtein_recursive(i, j):\n",
    "        if i == len(str1):\n",
    "            return len(str2) - j\n",
    "        if j == len(str2):\n",
    "            return len(str1) - i\n",
    "\n",
    "        if (i, j) in memo:\n",
    "            return memo[(i, j)]\n",
    "\n",
    "        if str1[i] == str2[j]:\n",
    "            memo[(i, j)] = levenshtein_recursive(i + 1, j + 1)\n",
    "        else:\n",
    "            insert = 1 + levenshtein_recursive(i, j + 1)\n",
    "            delete = 1 + levenshtein_recursive(i + 1, j)\n",
    "            replace = 1 + levenshtein_recursive(i + 1, j + 1)\n",
    "            memo[(i, j)] = min(insert, delete, replace)\n",
    "\n",
    "        return memo[(i, j)]\n",
    "\n",
    "    return levenshtein_recursive(0, 0)\n",
    "\n",
    "# Example usage\n",
    "str1 = \"sunday\"\n",
    "str2 = \"saturday\"\n",
    "print(edit_distance(str1, str2))\n"
   ]
  },
  {
   "cell_type": "markdown",
   "metadata": {},
   "source": [
    "## Word Break"
   ]
  },
  {
   "cell_type": "code",
   "execution_count": null,
   "metadata": {},
   "outputs": [],
   "source": [
    "\"\"\"\n",
    "Determines if the string can be segmented into a space-separated sequence of one or more dictionary words.\n",
    "Args:\n",
    "s (str): The string to be segmented.\n",
    "word_dict (set): A set containing \"dictionary\" words.\n",
    "Returns:\n",
    "bool: True if the string can be segmented, False otherwise.\n",
    "\"\"\"\n",
    "def word_break(s, word_dict):\n",
    "    dp = [False] * (len(s) + 1)\n",
    "    dp[0] = True\n",
    "\n",
    "    for i in range(1, len(s) + 1):\n",
    "        for j in range(i):\n",
    "            if dp[j] and s[j:i] in word_dict:\n",
    "                dp[i] = True\n",
    "                break\n",
    "\n",
    "    return dp[len(s)]"
   ]
  }
 ],
 "metadata": {
  "language_info": {
   "name": "python"
  }
 },
 "nbformat": 4,
 "nbformat_minor": 2
}
