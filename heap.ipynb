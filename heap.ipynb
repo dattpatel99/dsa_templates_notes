{
 "cells": [
  {
   "cell_type": "markdown",
   "metadata": {},
   "source": [
    "## Min-Heap"
   ]
  },
  {
   "cell_type": "markdown",
   "metadata": {},
   "source": [
    "### Re-Sorting"
   ]
  },
  {
   "cell_type": "code",
   "execution_count": null,
   "metadata": {},
   "outputs": [],
   "source": [
    "def heapify_up(heap, index):\n",
    "    parent_index = (index - 1) // 2\n",
    "    if parent_index >= 0 and heap[parent_index] > heap[index]:\n",
    "        heap[parent_index], heap[index] = heap[index], heap[parent_index]\n",
    "        heapify_up(heap, parent_index)\n",
    "\n",
    "def heapify_down(heap, index):\n",
    "    smallest = index\n",
    "    left = 2 * index + 1\n",
    "    right = 2 * index + 2\n",
    "\n",
    "    if left < len(heap) and heap[left] < heap[smallest]:\n",
    "        smallest = left\n",
    "    if right < len(heap) and heap[right] < heap[smallest]:\n",
    "        smallest = right\n",
    "\n",
    "    if smallest != index:\n",
    "        heap[index], heap[smallest] = heap[smallest], heap[index]\n",
    "        heapify_down(heap, smallest)"
   ]
  },
  {
   "cell_type": "markdown",
   "metadata": {},
   "source": [
    "### Building"
   ]
  },
  {
   "cell_type": "code",
   "execution_count": null,
   "metadata": {},
   "outputs": [],
   "source": [
    "def buildHeap(array):\n",
    "    for i in range(len(array) // 2 - 1, -1, -1):\n",
    "        heapify_down(array, i)\n",
    "    return array"
   ]
  },
  {
   "cell_type": "markdown",
   "metadata": {},
   "source": [
    "### Insert"
   ]
  },
  {
   "cell_type": "code",
   "execution_count": null,
   "metadata": {},
   "outputs": [],
   "source": [
    "def insert(heap, key):\n",
    "    heap.append(key)\n",
    "    heapify_up(heap, len(heap) - 1)\n",
    "    return heap"
   ]
  },
  {
   "cell_type": "markdown",
   "metadata": {},
   "source": [
    "### Deletion"
   ]
  },
  {
   "cell_type": "code",
   "execution_count": null,
   "metadata": {},
   "outputs": [],
   "source": [
    "def deleteMin(heap):\n",
    "    if not heap:\n",
    "        return None\n",
    "    min_element = heap[0]\n",
    "    heap[0] = heap[-1]\n",
    "    heap.pop()\n",
    "    heapify_down(heap, 0)\n",
    "    return min_element"
   ]
  },
  {
   "cell_type": "markdown",
   "metadata": {},
   "source": [
    "### Update"
   ]
  },
  {
   "cell_type": "code",
   "execution_count": null,
   "metadata": {},
   "outputs": [],
   "source": [
    "def updateElement(heap, old_value, new_value):\n",
    "    if old_value in heap:\n",
    "        index = heap.index(old_value)\n",
    "        heap[index] = new_value\n",
    "        heapify_up(heap, index)\n",
    "        heapify_down(heap, index)\n",
    "    return heap"
   ]
  },
  {
   "cell_type": "markdown",
   "metadata": {},
   "source": [
    "### Merge"
   ]
  },
  {
   "cell_type": "code",
   "execution_count": null,
   "metadata": {},
   "outputs": [],
   "source": [
    "def mergeHeaps(heap1, heap2):\n",
    "    merged_heap = heap1 + heap2\n",
    "    return buildHeap(merged_heap)"
   ]
  }
 ],
 "metadata": {
  "kernelspec": {
   "display_name": "env",
   "language": "python",
   "name": "python3"
  },
  "language_info": {
   "name": "python",
   "version": "3.11.6"
  }
 },
 "nbformat": 4,
 "nbformat_minor": 2
}
