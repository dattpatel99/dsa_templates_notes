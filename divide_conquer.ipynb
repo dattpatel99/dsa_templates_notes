{
 "cells": [
  {
   "cell_type": "markdown",
   "metadata": {},
   "source": [
    "# Divide and Conquer Notes"
   ]
  },
  {
   "cell_type": "markdown",
   "metadata": {},
   "source": [
    "Divide and Conquer is a fundamental algorithmic technique that is often explored in software development and engineering interviews. Here are some key points you should be familiar with:\n",
    "\n",
    "1. **Basic Concept**:\n",
    "   - **Definition**: Divide and conquer is an algorithm design paradigm that breaks a problem into smaller sub-problems, solves them independently, and then combines their solutions to solve the original problem.\n",
    "   - **Steps**: Typically involves three steps: Divide, Conquer, and Combine.\n",
    "\n",
    "2. **Divide**:\n",
    "   - Break the problem into several sub-problems that are similar to the original problem but smaller in size.\n",
    "\n",
    "3. **Conquer**:\n",
    "   - Solve the sub-problems recursively. If they are small enough, solve them as base cases.\n",
    "\n",
    "4. **Combine**:\n",
    "   - Combine the solutions of the sub-problems into the solution for the original problem.\n",
    "\n",
    "5. **Common Algorithms**:\n",
    "   - Examples include Merge Sort, Quick Sort, Binary Search, Strassen’s Matrix Multiplication, and Closest Pair of Points.\n",
    "\n",
    "6. **Efficiency**:\n",
    "   - Often leads to efficient algorithms, especially for large datasets.\n",
    "   - Time complexity varies with the algorithm but often provides log-linear or logarithmic performance improvements.\n",
    "\n",
    "7. **Recursion**:\n",
    "   - Inherently recursive, as it involves solving smaller instances of the same problem.\n",
    "   - Understanding of recursion and recursive functions is essential.\n",
    "\n",
    "8. **Master Theorem**:\n",
    "   - Useful for analyzing the time complexity of divide and conquer algorithms.\n",
    "   - Provides a way to determine running time in terms of the size of the input.\n",
    "\n",
    "9. **Parallelism and Concurrency**:\n",
    "   - Can be adapted for parallel execution because sub-problems can be solved independently.\n",
    "   - Important for understanding multi-threading and distributed computing.\n",
    "\n",
    "10. **Problem-Solving Strategy**:\n",
    "    - Helps in developing a methodical approach to problem-solving.\n",
    "    - Useful in breaking down complex problems into more manageable parts.\n",
    "\n",
    "11. **Coding Examples**:\n",
    "    - Practice coding common divide and conquer algorithms.\n",
    "    - Understand the implementation details and optimizations.\n",
    "\n",
    "12. **Applications**:\n",
    "    - Used in various fields such as computer graphics, numerical analysis, and optimizing search operations.\n",
    "\n",
    "By familiarizing yourself with these aspects, you'll be well-prepared to handle questions and coding challenges related to Divide and Conquer in your interviews. Remember to also practice coding examples to solidify your understanding."
   ]
  },
  {
   "cell_type": "markdown",
   "metadata": {},
   "source": [
    "### Generic Template for Divide and Conquer Problems\n",
    "\n",
    "1. **Define the Base Case**:\n",
    "   - Determine the simplest possible case which can be answered directly.\n",
    "\n",
    "2. **Divide the Problem**:\n",
    "   - Split the problem into smaller sub-problems of the same type.\n",
    "\n",
    "3. **Recursive Calls**:\n",
    "   - Call the function recursively on each sub-problem.\n",
    "\n",
    "4. **Combine the Results**:\n",
    "   - Aggregate the results from the sub-problems to form the final solution.\n",
    "\n",
    "5. **Return the Solution**:\n",
    "   - Ensure that the function returns a value for both base cases and recursive cases.\n",
    "\n",
    "This template can be adapted to various divide and conquer problems, with specific adjustments needed based on the problem's requirements. Remember, the key to mastering divide and conquer is understanding how to break down the problem and recursively solve smaller instances."
   ]
  },
  {
   "cell_type": "markdown",
   "metadata": {},
   "source": [
    "## Code Exmaple"
   ]
  },
  {
   "cell_type": "markdown",
   "metadata": {},
   "source": [
    "### Merge Sort"
   ]
  },
  {
   "cell_type": "code",
   "execution_count": null,
   "metadata": {},
   "outputs": [],
   "source": [
    "def mergeSort(arr):\n",
    "    if len(arr) > 1:\n",
    "        mid = len(arr) // 2\n",
    "        L = arr[:mid]\n",
    "        R = arr[mid:]\n",
    "\n",
    "        mergeSort(L)\n",
    "        mergeSort(R)\n",
    "\n",
    "        i = j = k = 0\n",
    "\n",
    "        while i < len(L) and j < len(R):\n",
    "            if L[i] < R[j]:\n",
    "                arr[k] = L[i]\n",
    "                i += 1\n",
    "            else:\n",
    "                arr[k] = R[j]\n",
    "                j += 1\n",
    "            k += 1\n",
    "\n",
    "        while i < len(L):\n",
    "            arr[k] = L[i]\n",
    "            i += 1\n",
    "            k += 1\n",
    "\n",
    "        while j < len(R):\n",
    "            arr[k] = R[j]\n",
    "            j += 1\n",
    "            k += 1\n",
    "\n",
    "arr = [12, 11, 13, 5, 6, 7]\n",
    "mergeSort(arr)\n",
    "print(\"Sorted array is:\", arr)\n"
   ]
  }
 ],
 "metadata": {
  "language_info": {
   "name": "python"
  }
 },
 "nbformat": 4,
 "nbformat_minor": 2
}
